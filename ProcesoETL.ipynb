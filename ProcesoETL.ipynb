{
 "cells": [
  {
   "cell_type": "code",
   "execution_count": 2,
   "metadata": {},
   "outputs": [],
   "source": [
    "import polars as pl"
   ]
  },
  {
   "cell_type": "code",
   "execution_count": 3,
   "metadata": {},
   "outputs": [],
   "source": [
    "tickets_historicos = pl.read_csv(\n",
    "    source = './Tickets/Tickets Historico.txt',\n",
    "    separator = ';',\n",
    "    columns = ['Numero Ticket', 'Ubicacion', 'Service Desk', 'Estado', 'Fecha Creacion', 'Fecha Termino', 'Fecha Cierre'],\n",
    "    try_parse_dates = True\n",
    ")"
   ]
  },
  {
   "cell_type": "code",
   "execution_count": 4,
   "metadata": {},
   "outputs": [],
   "source": [
    "tickets_historicos = tickets_historicos.rename({ 'Numero Ticket': 'TicketID'})"
   ]
  },
  {
   "cell_type": "code",
   "execution_count": 5,
   "metadata": {},
   "outputs": [],
   "source": [
    "tickets_actuales = pl.read_csv(\n",
    "    source = './Tickets/Tickets Actual.csv',\n",
    "    separator = '|',\n",
    "    columns = ['Numero Ticket', 'Ubicacion', 'Service Desk', 'Estado', 'Fecha Creacion', 'Fecha Termino', 'Fecha Cierre'],\n",
    ")"
   ]
  },
  {
   "cell_type": "code",
   "execution_count": 6,
   "metadata": {},
   "outputs": [],
   "source": [
    "tickets_actuales = tickets_actuales.rename({ 'Numero Ticket': 'TicketID'})"
   ]
  },
  {
   "cell_type": "code",
   "execution_count": 7,
   "metadata": {},
   "outputs": [],
   "source": [
    "tickets_actuales = tickets_actuales.select(\n",
    "    'TicketID', 'Ubicacion', 'Service Desk', 'Estado',\n",
    "    pl.col('Fecha Creacion').cast(pl.Date),\n",
    "    pl.col('Fecha Termino').str.to_date('%d/%m/%Y'),\n",
    "    pl.col('Fecha Cierre').str.to_date('%d/%m/%Y')    \n",
    ")"
   ]
  },
  {
   "cell_type": "code",
   "execution_count": 8,
   "metadata": {},
   "outputs": [],
   "source": [
    "tickets_actuales = tickets_actuales.filter(\n",
    "    pl.col('TicketID').str.starts_with('WO')\n",
    ")"
   ]
  },
  {
   "cell_type": "code",
   "execution_count": 9,
   "metadata": {},
   "outputs": [],
   "source": [
    "tickets = pl.concat([tickets_historicos, tickets_actuales], how='vertical')"
   ]
  },
  {
   "cell_type": "code",
   "execution_count": 11,
   "metadata": {},
   "outputs": [],
   "source": [
    "tickets = tickets.unique(subset='TicketID')"
   ]
  },
  {
   "cell_type": "code",
   "execution_count": 12,
   "metadata": {},
   "outputs": [],
   "source": [
    "tickets = tickets.sort(\n",
    "    by=['TicketID', 'Fecha Creacion']\n",
    ").unique(\n",
    "    subset='TicketID',\n",
    "    keep='last',\n",
    "    maintain_order=True\n",
    ")"
   ]
  },
  {
   "cell_type": "code",
   "execution_count": 13,
   "metadata": {},
   "outputs": [],
   "source": [
    "tickets = tickets.with_columns(\n",
    "    pl.col('Ubicacion').str.split_exact(' - ', 1)\n",
    "    .struct.rename_fields(['Agencia', 'AgenciaID'])\n",
    ").unnest('Ubicacion').cast({'AgenciaID': pl.Int64})"
   ]
  },
  {
   "cell_type": "code",
   "execution_count": 15,
   "metadata": {},
   "outputs": [],
   "source": [
    "tickets = tickets.with_columns(\n",
    "    pl.when(pl.col('Fecha Termino').is_null())\n",
    "        .then(pl.col('Fecha Cierre'))\n",
    "        .otherwise(pl.col('Fecha Termino'))\n",
    "        .alias('Fecha Real Fin')\n",
    ")"
   ]
  },
  {
   "cell_type": "code",
   "execution_count": 17,
   "metadata": {},
   "outputs": [],
   "source": [
    "tickets = tickets.with_columns(\n",
    "    (pl.col('Fecha Real Fin') - pl.col('Fecha Creacion'))\n",
    "    .dt.total_days()\n",
    "    .alias('Dias Cierre')\n",
    ")"
   ]
  },
  {
   "cell_type": "code",
   "execution_count": 23,
   "metadata": {},
   "outputs": [],
   "source": [
    "tickets = tickets.with_columns(\n",
    "    pl.when(pl.col('Dias Cierre').is_null()).then(None)\n",
    "    .when(pl.col('Dias Cierre') < 3).then(pl.lit('0 a 3 dias'))\n",
    "    .when(pl.col('Dias Cierre') < 7).then(pl.lit('3 a 7 dias'))\n",
    "    .when(pl.col('Dias Cierre') < 15).then(pl.lit('8 a 15 dias'))\n",
    "    .otherwise(pl.lit('+15 dias'))\n",
    "    .alias('Grupo Dias')\n",
    ")"
   ]
  },
  {
   "cell_type": "code",
   "execution_count": 50,
   "metadata": {},
   "outputs": [],
   "source": [
    "from pathlib import Path"
   ]
  },
  {
   "cell_type": "code",
   "execution_count": 52,
   "metadata": {},
   "outputs": [],
   "source": [
    "archivos = list(Path('./Atenciones/').glob('*.xlsx'))"
   ]
  },
  {
   "cell_type": "code",
   "execution_count": 58,
   "metadata": {},
   "outputs": [],
   "source": [
    "atenciones = pl.DataFrame()\n",
    "\n",
    "for archivo in archivos:\n",
    "    file = archivo.name\n",
    "    filePath = f'./Atenciones/{file}'\n",
    "    data = pl.read_excel(\n",
    "                source=filePath,\n",
    "                sheet_name='Hoja1',\n",
    "                engine='xlsx2csv',\n",
    "                infer_schema_length=0,\n",
    "                read_options={\n",
    "                    'columns': ['Numero Ticket', 'Tipo de Ticket', 'Proveedor', 'Costo Atencion']\n",
    "                }\n",
    "            )\n",
    "    atenciones = pl.concat([atenciones, data], how='vertical')\n",
    "    "
   ]
  },
  {
   "cell_type": "code",
   "execution_count": 60,
   "metadata": {},
   "outputs": [],
   "source": [
    "atenciones = atenciones.rename({ 'Numero Ticket': 'TicketID'})"
   ]
  },
  {
   "cell_type": "code",
   "execution_count": 63,
   "metadata": {},
   "outputs": [],
   "source": [
    "atenciones = atenciones.select(\n",
    "    pl.col(['TicketID', 'Tipo de Ticket', 'Proveedor']),\n",
    "    pl.col('Costo Atencion').str.replace(',', '.')\n",
    "    .str.to_uppercase()\n",
    "    .str.strip_chars()\n",
    "    .str.replace_many(\n",
    "        ['COSTO CERO', 'SIN COSTO'], '0'\n",
    "    )\n",
    "    .alias('Costo Atencion')\n",
    ")"
   ]
  },
  {
   "cell_type": "code",
   "execution_count": 64,
   "metadata": {},
   "outputs": [],
   "source": [
    "def text_to_decimal(valor:str):\n",
    "    try:\n",
    "        return float(valor)\n",
    "    except:\n",
    "        return None"
   ]
  },
  {
   "cell_type": "code",
   "execution_count": 84,
   "metadata": {},
   "outputs": [
    {
     "name": "stderr",
     "output_type": "stream",
     "text": [
      "C:\\Users\\Usuario\\AppData\\Local\\Temp\\ipykernel_11896\\3495111518.py:1: MapWithoutReturnDtypeWarning: Calling `map_elements` without specifying `return_dtype` can lead to unpredictable results. Specify `return_dtype` to silence this warning.\n",
      "  atenciones = atenciones.with_columns(\n"
     ]
    }
   ],
   "source": [
    "atenciones = atenciones.with_columns(\n",
    "    pl.col('Costo Atencion').map_elements(text_to_decimal).alias('Costo')\n",
    ")"
   ]
  },
  {
   "cell_type": "code",
   "execution_count": 87,
   "metadata": {},
   "outputs": [],
   "source": [
    "baseTotal = tickets.join(\n",
    "    other = atenciones,\n",
    "    on = 'TicketID',\n",
    "    how = 'inner' \n",
    ").select(\n",
    "    pl.col(['TicketID', 'AgenciaID', 'Agencia', 'Service Desk', 'Estado', 'Fecha Creacion', 'Grupo Dias', 'Costo']),\n",
    "    pl.col('Fecha Real Fin').alias('Fecha Cierre'),\n",
    "    pl.col('Tipo de Ticket').alias('Tipo Ticket'),\n",
    ")"
   ]
  },
  {
   "cell_type": "code",
   "execution_count": 90,
   "metadata": {},
   "outputs": [
    {
     "data": {
      "text/plain": [
       "<xlsxwriter.workbook.Workbook at 0x2027bc469f0>"
      ]
     },
     "execution_count": 90,
     "metadata": {},
     "output_type": "execute_result"
    }
   ],
   "source": [
    "baseTotal.write_excel(\n",
    "    workbook='Consolidado.xlsx',    \n",
    "    autofit=True,\n",
    "    dtype_formats={pl.Date: 'dd/mm/yyyy'},\n",
    "    float_precision=2,\n",
    "    table_style='Table Style Medium 4'\n",
    ")"
   ]
  }
 ],
 "metadata": {
  "kernelspec": {
   "display_name": "venv",
   "language": "python",
   "name": "python3"
  },
  "language_info": {
   "codemirror_mode": {
    "name": "ipython",
    "version": 3
   },
   "file_extension": ".py",
   "mimetype": "text/x-python",
   "name": "python",
   "nbconvert_exporter": "python",
   "pygments_lexer": "ipython3",
   "version": "3.12.2"
  }
 },
 "nbformat": 4,
 "nbformat_minor": 2
}
